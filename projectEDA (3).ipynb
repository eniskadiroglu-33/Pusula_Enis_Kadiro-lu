{
 "cells": [
  {
   "cell_type": "code",
   "execution_count": null,
   "id": "db0f7218-0693-4a46-825f-b72cfdf5ca4b",
   "metadata": {},
   "outputs": [],
   "source": [
    "import numpy as np\n",
    "import pandas as pd\n",
    "import matplotlib.pylab as plt\n"
   ]
  },
  {
   "cell_type": "code",
   "execution_count": null,
   "id": "1bbfc71f-302e-4f1a-a1e9-06a5a8b1a490",
   "metadata": {},
   "outputs": [],
   "source": [
    "path=r\"C:\\Users\\Enis\\Downloads\\projectpus.xlsx\"\n",
    "path = path.replace(\"\\u202a\", \"\").replace(\"\\u202c\", \"\")\n",
    "\n",
    "df =pd.read_excel(path)\n",
    "df"
   ]
  },
  {
   "cell_type": "code",
   "execution_count": null,
   "id": "82482f65-fee5-4897-9b57-a8598807593b",
   "metadata": {},
   "outputs": [],
   "source": [
    "df.info()\n"
   ]
  },
  {
   "cell_type": "code",
   "execution_count": null,
   "id": "b22adcae-c143-46d4-841c-06d15a3ef2ac",
   "metadata": {},
   "outputs": [],
   "source": [
    "print(\"Tekrar eden satır sayısı:\", df.duplicated().sum())\n"
   ]
  },
  {
   "cell_type": "code",
   "execution_count": null,
   "id": "7f7ef44d-5e4c-49d5-aca5-26a3df7092c8",
   "metadata": {},
   "outputs": [],
   "source": [
    "df= df.drop_duplicates()"
   ]
  },
  {
   "cell_type": "code",
   "execution_count": null,
   "id": "5622edb4-6e8b-462c-9c18-25d9080dfe48",
   "metadata": {},
   "outputs": [],
   "source": [
    "df['TedaviSuresi_Sayi'] = pd.to_numeric(df['TedaviSuresi'].str.extract('(\\\\d+)')[0], errors='coerce')\n",
    "\n",
    "df['UygulamaSuresi_Sayi'] = pd.to_numeric(df['UygulamaSuresi'].str.extract('(\\\\d+)')[0], errors='coerce')\n"
   ]
  },
  {
   "cell_type": "code",
   "execution_count": null,
   "id": "7cc34308-fbe1-427d-8a20-539c614bc1f0",
   "metadata": {},
   "outputs": [],
   "source": [
    "df"
   ]
  },
  {
   "cell_type": "code",
   "execution_count": null,
   "id": "e2e55346-c7d6-4216-93cf-11feb03a7a0c",
   "metadata": {},
   "outputs": [],
   "source": [
    "print(\"\\n--- Eksik Değer Sayıları ---\")\n",
    "print(df.isnull().sum())"
   ]
  },
  {
   "cell_type": "code",
   "execution_count": null,
   "id": "e570dfa5-afb6-4f10-b47e-e40e867805db",
   "metadata": {},
   "outputs": [],
   "source": [
    "sns.set(style=\"whitegrid\")\n",
    "df = df.copy()\n",
    "df.loc[:, 'TedaviSuresi_Numerical'] = pd.to_numeric(df['TedaviSuresi'].str.extract('(\\\\d+)')[0], errors='coerce')\n",
    "df = df.dropna(subset=['TedaviSuresi_Numerical'])\n",
    "plt.figure(figsize=(14, 8))\n",
    "ax = sns.countplot(y=df['TedaviSuresi_Numerical'], order=df['TedaviSuresi_Numerical'].value_counts().index)\n",
    "plt.title('Tedavi Seansı Sayılarının Dağılımı', fontsize=16)\n",
    "plt.xlabel('Tekrar Sayısı (Frekans)', fontsize=12)\n",
    "plt.ylabel('Seans Sayısı', fontsize=12)\n",
    "for p in ax.patches:\n",
    "    width = p.get_width()\n",
    "    plt.text(width + 10, p.get_y() + p.get_height() / 2, '{:1.0f}'.format(width), ha='left', va='center')\n",
    "plt.tight_layout()\n",
    "plt.show()\n"
   ]
  },
  {
   "cell_type": "code",
   "execution_count": null,
   "id": "0dfeab50-c730-4726-9587-f2514a01a1cc",
   "metadata": {},
   "outputs": [],
   "source": [
    "# Yaş dağılımını bir histogram ile görselleştiriyoruz.\n",
    "plt.figure(figsize=(10, 6))\n",
    "sns.histplot(df['Yas'].dropna(), kde=True, bins=30)\n",
    "plt.title('Hasta Yaş Dağılımı')\n",
    "plt.xlabel('Yaş')\n",
    "plt.ylabel('Frekans')\n",
    "plt.show() # Grafiği ekranda göster"
   ]
  },
  {
   "cell_type": "code",
   "execution_count": null,
   "id": "3f76a65b-6ee2-4ade-a77a-2dfe5dc1a6f7",
   "metadata": {},
   "outputs": [],
   "source": [
    "# Cinsiyet ve Tedavi Süresi arasındaki ilişkiyi bir kutu grafiği ile inceliyoruz.\n",
    "plt.figure(figsize=(10, 6))\n",
    "sns.boxplot(x='Cinsiyet', y='TedaviSuresi_Numerical', data=df)\n",
    "plt.title('Cinsiyete Göre Tedavi Süresi Dağılımı')\n",
    "plt.xlabel('Cinsiyet')\n",
    "plt.ylabel('Tedavi Süresi (Seans)')\n",
    "plt.show()"
   ]
  },
  {
   "cell_type": "code",
   "execution_count": null,
   "id": "70641b54-0ba4-4411-95a6-97dc310399a1",
   "metadata": {},
   "outputs": [],
   "source": [
    "# Sadece sayısal sütunları seçip korelasyon matrisini hesaplıyoruz.\n",
    "numerical_cols = df.select_dtypes(include=np.number)\n",
    "correlation_matrix = numerical_cols.corr()\n",
    "\n",
    "# Korelasyon matrisini bir ısı haritası ile görselleştiriyoruz.\n",
    "plt.figure(figsize=(10, 7))\n",
    "sns.heatmap(correlation_matrix, annot=True, cmap='coolwarm', fmt=\".2f\")\n",
    "plt.title('Sayısal Değişkenler Arasındaki Korelasyon Matrisi')\n",
    "plt.show()"
   ]
  },
  {
   "cell_type": "code",
   "execution_count": null,
   "id": "5e4e2b6b-849f-48d2-a0a5-8dee38291181",
   "metadata": {},
   "outputs": [],
   "source": [
    "\n"
   ]
  },
  {
   "cell_type": "code",
   "execution_count": null,
   "id": "84cf943e-b076-475b-a932-2bce44844921",
   "metadata": {},
   "outputs": [],
   "source": []
  },
  {
   "cell_type": "code",
   "execution_count": null,
   "id": "2a733bc7-2fc1-4aa5-86af-c0ef277f9b82",
   "metadata": {},
   "outputs": [],
   "source": []
  },
  {
   "cell_type": "code",
   "execution_count": null,
   "id": "f8320cf5-f69b-4bbe-b40f-4b094ced9d60",
   "metadata": {},
   "outputs": [],
   "source": []
  },
  {
   "cell_type": "code",
   "execution_count": null,
   "id": "c0241af9-81bf-49d9-888a-1278d4f7c2d9",
   "metadata": {},
   "outputs": [],
   "source": []
  },
  {
   "cell_type": "code",
   "execution_count": null,
   "id": "f3df8420-4b80-4854-9438-569b71fd4bc4",
   "metadata": {},
   "outputs": [],
   "source": []
  },
  {
   "cell_type": "code",
   "execution_count": null,
   "id": "d1d7566c-8322-435a-9374-d492face7136",
   "metadata": {},
   "outputs": [],
   "source": []
  },
  {
   "cell_type": "code",
   "execution_count": null,
   "id": "5c6fbb15-1129-4388-9d12-14d57a89c967",
   "metadata": {},
   "outputs": [],
   "source": []
  },
  {
   "cell_type": "code",
   "execution_count": null,
   "id": "0a681eb3-17d8-45bd-91ad-5130ac9cea2f",
   "metadata": {},
   "outputs": [],
   "source": []
  },
  {
   "cell_type": "code",
   "execution_count": null,
   "id": "a1294a52-ac8d-4b0b-ae66-63f049b32527",
   "metadata": {
    "editable": true,
    "slideshow": {
     "slide_type": ""
    },
    "tags": []
   },
   "outputs": [],
   "source": []
  }
 ],
 "metadata": {
  "kernelspec": {
   "display_name": "Python 3 (ipykernel)",
   "language": "python",
   "name": "python3"
  },
  "language_info": {
   "codemirror_mode": {
    "name": "ipython",
    "version": 3
   },
   "file_extension": ".py",
   "mimetype": "text/x-python",
   "name": "python",
   "nbconvert_exporter": "python",
   "pygments_lexer": "ipython3",
   "version": "3.13.0"
  }
 },
 "nbformat": 4,
 "nbformat_minor": 5
}
